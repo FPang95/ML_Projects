{
 "cells": [
  {
   "cell_type": "markdown",
   "id": "45d70a76",
   "metadata": {},
   "source": [
    "# 1. Virat Data for computer vision"
   ]
  },
  {
   "cell_type": "markdown",
   "id": "643b30a4",
   "metadata": {},
   "source": [
    "https://viratdata.org/#getting-data"
   ]
  },
  {
   "cell_type": "markdown",
   "id": "397f6c66",
   "metadata": {},
   "source": [
    "# 2. ChatGTP dataset"
   ]
  },
  {
   "cell_type": "markdown",
   "id": "91941ef7",
   "metadata": {},
   "source": [
    "https://huggingface.co/datasets/argilla/news-summary/viewer/argilla--news-summary/train"
   ]
  },
  {
   "cell_type": "markdown",
   "id": "00bcc068",
   "metadata": {},
   "source": [
    "# 3. Edited Images dataset"
   ]
  },
  {
   "cell_type": "markdown",
   "id": "33bef3a1",
   "metadata": {},
   "source": [
    "https://www.kaggle.com/datasets/sophatvathana/casia-dataset"
   ]
  },
  {
   "cell_type": "code",
   "execution_count": null,
   "id": "8f7c7a8a",
   "metadata": {},
   "outputs": [],
   "source": []
  }
 ],
 "metadata": {
  "kernelspec": {
   "display_name": "Python 3 (ipykernel)",
   "language": "python",
   "name": "python3"
  },
  "language_info": {
   "codemirror_mode": {
    "name": "ipython",
    "version": 3
   },
   "file_extension": ".py",
   "mimetype": "text/x-python",
   "name": "python",
   "nbconvert_exporter": "python",
   "pygments_lexer": "ipython3",
   "version": "3.9.13"
  }
 },
 "nbformat": 4,
 "nbformat_minor": 5
}
